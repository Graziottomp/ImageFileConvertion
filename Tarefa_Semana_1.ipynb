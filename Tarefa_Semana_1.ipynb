{
  "nbformat": 4,
  "nbformat_minor": 0,
  "metadata": {
    "colab": {
      "provenance": [],
      "authorship_tag": "ABX9TyN43WZ0rfu1nQslsPZ/050O",
      "include_colab_link": true
    },
    "kernelspec": {
      "name": "python3",
      "display_name": "Python 3"
    },
    "language_info": {
      "name": "python"
    }
  },
  "cells": [
    {
      "cell_type": "markdown",
      "metadata": {
        "id": "view-in-github",
        "colab_type": "text"
      },
      "source": [
        "<a href=\"https://colab.research.google.com/github/Graziottomp/ImageFileConvertion/blob/main/Tarefa_Semana_1.ipynb\" target=\"_parent\"><img src=\"https://colab.research.google.com/assets/colab-badge.svg\" alt=\"Open In Colab\"/></a>"
      ]
    },
    {
      "cell_type": "markdown",
      "metadata": {
        "id": "fA7v_8iIOL48"
      },
      "source": [
        "**Tarefa Semana 1**\n",
        "\n",
        "\n",
        "**(a)** realize a leitura de 3 números, relativos aos valores de 1 pixel nas bandas do verde (green), vermelho (red) e infravermelho (nir)"
      ]
    },
    {
      "cell_type": "code",
      "metadata": {
        "colab": {
          "base_uri": "https://localhost:8080/"
        },
        "id": "ekrHkRczOCPV",
        "outputId": "8e9abe80-4f7a-43bb-b883-048a926ab044"
      },
      "source": [
        "green = float(input('Valor para a banda green: '))\n",
        "red = float (input('Valor para a banda red: '))\n",
        "nir= float (input ('valor para a banda nir: '))"
      ],
      "execution_count": null,
      "outputs": [
        {
          "name": "stdout",
          "output_type": "stream",
          "text": [
            "Valor para a banda green: 4670\n",
            "Valor para a banda red: 2936\n",
            "valor para a banda nir: 2059\n"
          ]
        }
      ]
    },
    {
      "cell_type": "markdown",
      "metadata": {
        "id": "DphvUnxwOJRU"
      },
      "source": []
    },
    {
      "cell_type": "markdown",
      "metadata": {
        "id": "WzyklnVlSY8Y"
      },
      "source": [
        "**(b)** com estes números, calcule e apresente os índices de vegetação (NDVI) e de água (NDWI), segundo as equações abaixo:\n",
        "Normalized Difference Vegetation Index\n",
        "NDVI = (nir - red) / (nir + red)\n",
        "Normalized Difference Water Index\n",
        "NDWI = (green - nir) / (green + nir)\n"
      ]
    },
    {
      "cell_type": "code",
      "metadata": {
        "colab": {
          "base_uri": "https://localhost:8080/"
        },
        "id": "Ab3H6JtASa1l",
        "outputId": "9288d857-e509-4a3e-dee5-fe56315793f5"
      },
      "source": [
        "NDVI = (nir - red) / (nir + red)\n",
        "NDWI = (green - nir) / (green + nir)\n",
        "\n",
        "print ('NDVI: ', (NDVI))\n",
        "print ('NDWI: ', (NDWI))"
      ],
      "execution_count": null,
      "outputs": [
        {
          "output_type": "stream",
          "name": "stdout",
          "text": [
            "NDVI:  -0.17557557557557557\n",
            "NDWI:  0.3880219943528013\n"
          ]
        }
      ]
    },
    {
      "cell_type": "markdown",
      "metadata": {
        "id": "E_7C7yjqTc2G"
      },
      "source": [
        "**(c)** com base nos valores de NDVI e NDWI calculados, informe a possível classificação do pixel, implementando uma árvore de decisão com as seguintes regras:\n"
      ]
    },
    {
      "cell_type": "code",
      "metadata": {
        "colab": {
          "base_uri": "https://localhost:8080/"
        },
        "id": "9XONyZkmTeUf",
        "outputId": "237ac956-6f73-4de1-bece-0560920f321f"
      },
      "source": [
        "if NDWI > 0.0:\n",
        "  print ('Água')\n",
        "else:\n",
        "    if NDVI > 0.7:\n",
        "      print ('Vegetação')\n",
        "    else:\n",
        "      print ('Outros')"
      ],
      "execution_count": null,
      "outputs": [
        {
          "output_type": "stream",
          "name": "stdout",
          "text": [
            "Água\n"
          ]
        }
      ]
    },
    {
      "cell_type": "markdown",
      "metadata": {
        "id": "YbeJOYPPf9ek"
      },
      "source": [
        "**(d)** para cada nome de imagem, conte quantos caracteres são numéricos, e quantos não são\n"
      ]
    },
    {
      "cell_type": "code",
      "metadata": {
        "colab": {
          "base_uri": "https://localhost:8080/"
        },
        "id": "Cb3kOXlwUPkH",
        "outputId": "f306e235-2eb9-4322-872e-54cc56610993"
      },
      "source": [
        "lista_cbers_04a = ['CBERS_4A_WFI_20201019_230_124_L2_BAND13.tif',\n",
        " 'CBERS_4A_WFI_20201019_230_124_L2_BAND13.xml',\n",
        " 'CBERS_4A_WFI_20201019_230_124_L2_BAND14.tif',\n",
        " 'CBERS_4A_WFI_20201019_230_124_L2_BAND14.xml',\n",
        " 'CBERS_4A_WFI_20201019_230_124_L2_BAND15.tif',\n",
        " 'CBERS_4A_WFI_20201019_230_124_L2_BAND15.xml',\n",
        " 'CBERS_4A_WFI_20201019_230_124_L2_BAND16.tif',\n",
        " 'CBERS_4A_WFI_20201019_230_124_L2_BAND16.xml']\n",
        "\n",
        "for nome_arquivo in lista_cbers_04a:\n",
        "  numericos = 0\n",
        "  for caractere in nome_arquivo:\n",
        "    if caractere.isdigit():\n",
        "      numericos = numericos + 1\n",
        "\n",
        "print(nome_arquivo, 'possui', numericos, 'caracteres numéricos e',\n",
        "      len(nome_arquivo) - numericos, 'caracteres não numéricos')"
      ],
      "execution_count": null,
      "outputs": [
        {
          "output_type": "stream",
          "name": "stdout",
          "text": [
            "CBERS_4A_WFI_20201019_230_124_L2_BAND16.xml possui 18 caracteres numéricos e 25 caracteres não numéricos\n"
          ]
        }
      ]
    },
    {
      "cell_type": "markdown",
      "metadata": {
        "id": "pfkbB0KhgPuh"
      },
      "source": [
        "**(e)** percorra a lista de nomes, e indique quais são de imagens (final .tif) e quais são de metadados (final .xml)\n"
      ]
    },
    {
      "cell_type": "code",
      "metadata": {
        "colab": {
          "base_uri": "https://localhost:8080/"
        },
        "id": "BUTX9ixEagP2",
        "outputId": "8b0010ff-4f0a-4d9a-d619-12e5f37c61eb"
      },
      "source": [
        "for nome_arquivo in lista_cbers_04a:\n",
        "  if '.tif' in nome_arquivo:\n",
        "    print(nome_arquivo, 'contém imagem')\n",
        "\n",
        "  elif '.xml' in nome_arquivo:\n",
        "    print(nome_arquivo, 'contém metadados')"
      ],
      "execution_count": null,
      "outputs": [
        {
          "output_type": "stream",
          "name": "stdout",
          "text": [
            "CBERS_4A_WFI_20201019_230_124_L2_BAND13.tif contém imagem\n",
            "CBERS_4A_WFI_20201019_230_124_L2_BAND13.xml contém metadados\n",
            "CBERS_4A_WFI_20201019_230_124_L2_BAND14.tif contém imagem\n",
            "CBERS_4A_WFI_20201019_230_124_L2_BAND14.xml contém metadados\n",
            "CBERS_4A_WFI_20201019_230_124_L2_BAND15.tif contém imagem\n",
            "CBERS_4A_WFI_20201019_230_124_L2_BAND15.xml contém metadados\n",
            "CBERS_4A_WFI_20201019_230_124_L2_BAND16.tif contém imagem\n",
            "CBERS_4A_WFI_20201019_230_124_L2_BAND16.xml contém metadados\n"
          ]
        }
      ]
    }
  ]
}