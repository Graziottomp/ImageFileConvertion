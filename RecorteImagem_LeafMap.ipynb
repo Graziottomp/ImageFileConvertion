{
  "cells": [
    {
      "cell_type": "markdown",
      "metadata": {
        "id": "view-in-github",
        "colab_type": "text"
      },
      "source": [
        "<a href=\"https://colab.research.google.com/github/Graziottomp/ImageFileConvertion/blob/main/RecorteImagem_LeafMap.ipynb\" target=\"_parent\"><img src=\"https://colab.research.google.com/assets/colab-badge.svg\" alt=\"Open In Colab\"/></a>"
      ]
    },
    {
      "cell_type": "markdown",
      "source": [
        "\n",
        "\n",
        "```\n",
        "!/usr/bin/env python\n",
        "coding: utf-8\n",
        "Rotina para recortar uma imagem GeoTiff manualmente com visualização pela biblioteca LeafMap:\n",
        "author = 'Maria Paula Graziotto' adaptado de 'Qiusheng WuVer'\n",
        "copyright = \"Copyright 2023, Maria Paula Graziotto\"\n",
        "credits = ['Graziotto, M. P.']\n",
        "license = \"Public Domain\"\n",
        "version = \"1.0\"\n",
        "maintainer = \"Maria Paula Graziotto\"\n",
        "email = 'graziotto.mp@outlook.com'\n",
        "-------------------------------------------------------------------------------\n",
        "```\n",
        "\n"
      ],
      "metadata": {
        "id": "RzAu943XjmTn"
      }
    },
    {
      "cell_type": "code",
      "execution_count": null,
      "metadata": {
        "id": "lj6RTm3PHHZU"
      },
      "outputs": [],
      "source": [
        "!pip install segment-geospatial leafmap\n",
        "!pip install localtileserver\n",
        "!pip install rasterio xarray rioxarray"
      ]
    },
    {
      "cell_type": "code",
      "execution_count": 2,
      "metadata": {
        "id": "gHJcUNqCHRlb"
      },
      "outputs": [],
      "source": [
        "import os\n",
        "import leafmap\n",
        "from samgeo import SamGeo, show_image, download_file, overlay_images, tms_to_geotiff\n",
        "import rasterio as rs\n",
        "import xarray as xr\n",
        "import rioxarray as rio\n",
        "import pandas as pd\n",
        "from rasterio.windows import Window"
      ]
    },
    {
      "cell_type": "code",
      "execution_count": 10,
      "metadata": {
        "id": "XnToDmIfJiv2"
      },
      "outputs": [],
      "source": [
        "#Definindo diretório e arquivo (recomendo fazer um arquivo por vez, sem looping)\n",
        "current_dir = os.path.dirname\n",
        "\n",
        "raster_file = \"file_name.tiff\""
      ]
    },
    {
      "cell_type": "code",
      "execution_count": 11,
      "metadata": {
        "id": "Ce4N8LAWLlS9"
      },
      "outputs": [],
      "source": [
        "# Carregando a imagem e seus atributos\n",
        "with rs.open(raster_file) as src:\n",
        "#Transformando o src do raster\n",
        "    raster_data = src.read()\n",
        "    transform = src.transform\n",
        "\n",
        "# Definindo as bordas do raster\n",
        "    xmin, ymin, xmax, ymax = src.bounds\n",
        "\n",
        "# Calculando o centro do raster\n",
        "    center_lat = (ymin + ymax) / 2\n",
        "    center_lon = (xmin + xmax) / 2"
      ]
    },
    {
      "cell_type": "code",
      "execution_count": null,
      "metadata": {
        "id": "jyYvossDL1JB"
      },
      "outputs": [],
      "source": [
        "# Mostrando a imagem georeferenciada e interativa utilizando LeafMap\n",
        "m = leafmap.Map(center=[center_lat, center_lon], zoom=9)\n",
        "m.add_basemap(\"SATELLITE\")\n",
        "m.add_layer_control()\n",
        "m.layers[-1].visible = False\n",
        "m.add_raster(raster_file, layer_name=\"Image\")\n",
        "m"
      ]
    },
    {
      "cell_type": "code",
      "execution_count": 14,
      "metadata": {
        "id": "DlZbdefwHEAo"
      },
      "outputs": [],
      "source": [
        "#Opção de usar o bbox ou a área selecionada no mapa\n",
        "if m.user_roi_bounds() is not None:\n",
        "    bbox = m.user_roi_bounds()\n",
        "else:\n",
        "    bbox = src.bounds"
      ]
    },
    {
      "cell_type": "code",
      "execution_count": 15,
      "metadata": {
        "id": "qPyJ2k9gbA4U"
      },
      "outputs": [],
      "source": [
        "#Criar e salvar a imagem recortada com os atributos\n",
        "#nome do arquivo e o diretório\n",
        "output_raster_path = \"file_name.tif\"\n",
        "\n",
        "#Bbox pré-determinado\n",
        "xmin, ymin, xmax, ymax = [bbox[0], bbox[1], bbox[2], bbox[3]]\n",
        "\n",
        "#criando o novo raster\n",
        "with rs.open(raster_file) as src2:\n",
        "    row_start, col_start = src2.index(xmin, ymax)\n",
        "    row_stop, col_stop = src2.index(xmax, ymin)\n",
        "\n",
        "#Recorte do subset\n",
        "    window = Window.from_slices((row_start, row_stop), (col_start, col_stop))\n",
        "\n",
        "#Lendo o subset do novo raster\n",
        "    subset_data = src2.read(window=window)\n",
        "\n",
        "# Adicionando o metadata no novo raster\n",
        "    subset_profile = src2.profile.copy()\n",
        "    subset_profile.update({\n",
        "        'height': window.height,\n",
        "        'width': window.width,\n",
        "        'transform': src2.window_transform(window)\n",
        "    })\n",
        "\n",
        "#Armazenando o metadata gerado\n",
        "    with rs.open(output_raster_path, 'w', **subset_profile) as dst:\n",
        "        dst.write(subset_data)"
      ]
    }
  ],
  "metadata": {
    "accelerator": "GPU",
    "colab": {
      "provenance": [],
      "mount_file_id": "1fo1uhzO_73HmKakpZAInZ4IDk10lSXNL",
      "authorship_tag": "ABX9TyN0YK/MQ80rl526/uu15eKU",
      "include_colab_link": true
    },
    "kernelspec": {
      "display_name": "Python 3",
      "name": "python3"
    },
    "language_info": {
      "name": "python"
    }
  },
  "nbformat": 4,
  "nbformat_minor": 0
}