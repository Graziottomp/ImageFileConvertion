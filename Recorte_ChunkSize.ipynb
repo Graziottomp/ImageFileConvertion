{
  "nbformat": 4,
  "nbformat_minor": 0,
  "metadata": {
    "colab": {
      "provenance": [],
      "authorship_tag": "ABX9TyOdkzXr5Sy+qbHUuuIdFhI4",
      "include_colab_link": true
    },
    "kernelspec": {
      "name": "python3",
      "display_name": "Python 3"
    },
    "language_info": {
      "name": "python"
    }
  },
  "cells": [
    {
      "cell_type": "markdown",
      "metadata": {
        "id": "view-in-github",
        "colab_type": "text"
      },
      "source": [
        "<a href=\"https://colab.research.google.com/github/Graziottomp/ImageFileConvertion/blob/main/Recorte_ChunkSize.ipynb\" target=\"_parent\"><img src=\"https://colab.research.google.com/assets/colab-badge.svg\" alt=\"Open In Colab\"/></a>"
      ]
    },
    {
      "cell_type": "markdown",
      "source": [
        "#!/usr/bin/env python\n",
        "# coding: utf-8\n",
        "\n",
        "# Rotina para recortar uma imagem GeoTiff em pedaços menores (chunk size):\n",
        "\n",
        "#author = 'Maria Paula Graziotto'\n",
        "\n",
        "# copyright = \"Copyright 2023, Maria Paula Graziotto\"\n",
        "\n",
        "# credits = ['Graziotto, M. P.']\n",
        "\n",
        "# license = \"Public Domain\"\n",
        "\n",
        "# version = \"1.0\"\n",
        "\n",
        "# maintainer = \"Maria Paula Graziotto\"\n",
        "\n",
        "# email = 'graziotto.mp@outlook.com'\n",
        "#-------------------------------------------------------------------------------\n",
        "\n"
      ],
      "metadata": {
        "id": "rW7HEPi4iOee"
      }
    },
    {
      "cell_type": "code",
      "execution_count": null,
      "metadata": {
        "id": "Fr40m9FQgxXP"
      },
      "outputs": [],
      "source": [
        "#Importar as bibliotecas\n",
        "import rasterio as rs\n",
        "from rasterio.windows import Window\n",
        "import pathlib as plib\n",
        "import glob"
      ]
    },
    {
      "cell_type": "code",
      "source": [
        "#Carregar e abrir o arquivo\n",
        "with rs.open('raster_file') as image:\n",
        "   width, height = image.width, image.height\n",
        "\n",
        "# Definindo o tamanho da sub-imagem\n",
        "   chunk_size = 500\n",
        "\n",
        "   for y in range(0, height, chunk_size):\n",
        "        for x in range(0, width, chunk_size):\n",
        "            window = Window(x, y, min(chunk_size, width - x), min(chunk_size, height - y))\n",
        "            data = image.read(1, window=window)\n",
        "\n",
        "# Plotando a sub-imagem\n",
        "            plt.imshow(data, cmap='gray')\n",
        "            plt.title(f\"Chunk: ({x}, {y}) - ({x + chunk_size}, {y + chunk_size})\")\n",
        "            plt.show()\n",
        "\n",
        "#definir o diretório e arquivo\n",
        "def main():\n",
        "    current_dir = plib.Path.cwd()\n",
        "    raster_file = glob.glob('*.tif')\n",
        "    raster_file.sort()\n",
        "\n",
        "if __name__ == \"__main__\":\n",
        "    main()"
      ],
      "metadata": {
        "id": "FEjaRaI-g5EF"
      },
      "execution_count": null,
      "outputs": []
    }
  ]
}